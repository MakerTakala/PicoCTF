{
  "nbformat": 4,
  "nbformat_minor": 0,
  "metadata": {
    "colab": {
      "name": "General_Skills.ipynb",
      "provenance": [],
      "collapsed_sections": [
        "CvSAMFPXkujw",
        "Xjh7Nds5dbB2",
        "Tnmo6Dmdhm0M",
        "Zloa5p01lI2m",
        "fIQlOYPnnzjS",
        "qDSUjggpuD_y",
        "enSdYB0843Lk",
        "daAhBn7a5Fng",
        "xlT1j1Bk6cuo",
        "SRN0L6Nw63U8",
        "HjVUqUbB7ZH4",
        "oNo79eTH-Rqy",
        "NCDkpCkPBMtE",
        "YrdrJ4rhXFM6",
        "lMdehFOkeKDa",
        "QTfBf4NDgh8o",
        "4xiUzyGGjhyK",
        "MfQilHUYoIB9"
      ],
      "authorship_tag": "ABX9TyO4f6v0CcuTd/VVzOwYXLRf"
    },
    "kernelspec": {
      "name": "python3",
      "display_name": "Python 3"
    },
    "language_info": {
      "name": "python"
    }
  },
  "cells": [
    {
      "cell_type": "markdown",
      "metadata": {
        "id": "CvSAMFPXkujw"
      },
      "source": [
        "#Obedient Cat"
      ]
    },
    {
      "cell_type": "markdown",
      "metadata": {
        "id": "ovuI9Nypk1Z7"
      },
      "source": [
        "Downoad and type .txt behind the file name."
      ]
    },
    {
      "cell_type": "markdown",
      "metadata": {
        "id": "Xjh7Nds5dbB2"
      },
      "source": [
        "#Python Wrangling"
      ]
    },
    {
      "cell_type": "markdown",
      "metadata": {
        "id": "983EdmWbdcoX"
      },
      "source": [
        "Get file \"ende.py\" and \"flag.txt.en\" by use \"wget\" commend in webshell.\n",
        "\n",
        "    wget https://mercury.picoctf.net/static/b351a89e0bc6745b00716849105f87c6/ende.py\n",
        "\n",
        "    wget https://mercury.picoctf.net/static/b351a89e0bc6745b00716849105f87c6/flag.txt.en\n"
      ]
    },
    {
      "cell_type": "markdown",
      "metadata": {
        "id": "iP7wZwmwgMJX"
      },
      "source": [
        "Type\n",
        "\n",
        "    python ende.py -d flag.txt.en\n",
        "\n",
        "and input the password, you will get the flag."
      ]
    },
    {
      "cell_type": "markdown",
      "metadata": {
        "id": "Tnmo6Dmdhm0M"
      },
      "source": [
        "#Wave a flag"
      ]
    },
    {
      "cell_type": "markdown",
      "metadata": {
        "id": "4K2hCLIfhxDN"
      },
      "source": [
        "###ANS1 in Window OS\n",
        "\n",
        "Download and turn it to txt file.\n",
        "\n",
        "Use ctrl + f to find the flag. \n",
        "\n"
      ]
    },
    {
      "cell_type": "markdown",
      "metadata": {
        "id": "PVTyPp29lEz4"
      },
      "source": [
        "###ANS2 in webshell\n",
        "\n",
        "Use \"wget\" and \"chmod\" to get and change \"warm\" to be a excutable file\n",
        "\n",
        "    wget https://mercury.picoctf.net/static/cfea736820f329083dab9558c3932ada/warm\n",
        "\n",
        "Excute warm ans you can follow what it say，you can get the flag."
      ]
    },
    {
      "cell_type": "markdown",
      "metadata": {
        "id": "Zloa5p01lI2m"
      },
      "source": [
        "#Nice netcat..."
      ]
    },
    {
      "cell_type": "markdown",
      "metadata": {
        "id": "w_lJjnrqlZyQ"
      },
      "source": [
        "Excute\n",
        "\n",
        "    $ nc mercury.picoctf.net 35652\n",
        "\n",
        "in the webshell.\n",
        "\n",
        "\n",
        "And you will get numbers of number.\n",
        "\n",
        "Decode it by ascii code."
      ]
    },
    {
      "cell_type": "code",
      "metadata": {
        "colab": {
          "base_uri": "https://localhost:8080/"
        },
        "id": "Rt0at4wYmZUg",
        "outputId": "ec44ef43-7a1f-467e-9429-ee74a020892f"
      },
      "source": [
        "c = \"112 105 99 111 67 84 70 123 103 48 48 100 95 107 49 116 116 121 33 95 110 49 99 51 95 107 49 116 116 121 33 95 57 98 51 98 55 51 57 50 125 10\"\n",
        "flag = \"\"\n",
        "for _ in c.split():\n",
        "  flag += chr(int(_))\n",
        "print(flag)"
      ],
      "execution_count": null,
      "outputs": [
        {
          "output_type": "stream",
          "name": "stdout",
          "text": [
            "picoCTF{g00d_k1tty!_n1c3_k1tty!_9b3b7392}\n",
            "\n"
          ]
        }
      ]
    },
    {
      "cell_type": "markdown",
      "metadata": {
        "id": "fIQlOYPnnzjS"
      },
      "source": [
        "#Static ain't always noise"
      ]
    },
    {
      "cell_type": "markdown",
      "metadata": {
        "id": "94hb8TZBn4el"
      },
      "source": [
        "Get file \"static\" and \"ltdis.sh\" \n",
        "\n",
        "excute\n",
        "\n",
        "    ltdis.sh static\n",
        "find flag in \"static.ltdis.strings.txt\""
      ]
    },
    {
      "cell_type": "markdown",
      "metadata": {
        "id": "qDSUjggpuD_y"
      },
      "source": [
        "#Tab, Tab, Attack"
      ]
    },
    {
      "cell_type": "markdown",
      "metadata": {
        "id": "pOHruQFIuLx2"
      },
      "source": [
        "Unzip the file and cd the dir by use tab and excute the last file."
      ]
    },
    {
      "cell_type": "markdown",
      "metadata": {
        "id": "enSdYB0843Lk"
      },
      "source": [
        "#Magikarp Ground Mission"
      ]
    },
    {
      "cell_type": "markdown",
      "metadata": {
        "id": "CMFfAC-X441U"
      },
      "source": [
        "Follow the instruction. By using the \"cd\" and \"cat\" to find the file."
      ]
    },
    {
      "cell_type": "markdown",
      "metadata": {
        "id": "daAhBn7a5Fng"
      },
      "source": [
        "#Lets Warm Up"
      ]
    },
    {
      "cell_type": "code",
      "metadata": {
        "colab": {
          "base_uri": "https://localhost:8080/"
        },
        "id": "WLZPqFII5Ta1",
        "outputId": "c31bc810-7e99-487d-af66-586285cb52f9"
      },
      "source": [
        "c = \"0x70\"\n",
        "print(chr(int(c, 16)))\n",
        "#ans:picoCTF{p}"
      ],
      "execution_count": null,
      "outputs": [
        {
          "output_type": "stream",
          "name": "stdout",
          "text": [
            "p\n"
          ]
        }
      ]
    },
    {
      "cell_type": "markdown",
      "metadata": {
        "id": "xlT1j1Bk6cuo"
      },
      "source": [
        "#Warmed Up"
      ]
    },
    {
      "cell_type": "code",
      "metadata": {
        "colab": {
          "base_uri": "https://localhost:8080/"
        },
        "id": "_hBA6pcr6flZ",
        "outputId": "0e2b4558-a04c-48bf-b12e-33e3149f5ecf"
      },
      "source": [
        "c = \"0x3D\"\n",
        "print(int(c, 16))\n",
        "#ans:picoCTF{61}"
      ],
      "execution_count": null,
      "outputs": [
        {
          "output_type": "stream",
          "name": "stdout",
          "text": [
            "61\n"
          ]
        }
      ]
    },
    {
      "cell_type": "markdown",
      "metadata": {
        "id": "SRN0L6Nw63U8"
      },
      "source": [
        "#2Warm"
      ]
    },
    {
      "cell_type": "code",
      "metadata": {
        "colab": {
          "base_uri": "https://localhost:8080/"
        },
        "id": "z4_QEDcA65qK",
        "outputId": "7185b7da-5c6f-4073-d087-8660f357d879"
      },
      "source": [
        "c = 42\n",
        "print(bin(c))\n",
        "#ans:picoCTF{101010}"
      ],
      "execution_count": null,
      "outputs": [
        {
          "output_type": "stream",
          "name": "stdout",
          "text": [
            "0b101010\n"
          ]
        }
      ]
    },
    {
      "cell_type": "markdown",
      "metadata": {
        "id": "HjVUqUbB7ZH4"
      },
      "source": [
        "#what's a net cat?"
      ]
    },
    {
      "cell_type": "markdown",
      "metadata": {
        "id": "N9-gTL-37vQw"
      },
      "source": [
        "    nc jupiter.challenges.picoctf.org 41120"
      ]
    },
    {
      "cell_type": "markdown",
      "metadata": {
        "id": "oNo79eTH-Rqy"
      },
      "source": [
        "#strings it"
      ]
    },
    {
      "cell_type": "markdown",
      "metadata": {
        "id": "4DCQenxi-WrF"
      },
      "source": [
        "Download and chmod ans excute file.\n",
        "\n",
        "It will tell you to use \"strings\" commend.\n",
        "\n",
        "By using \"man\" you could find how to use strings\n",
        "\n",
        "    strings strings | grep \"picoCTF\""
      ]
    },
    {
      "cell_type": "markdown",
      "metadata": {
        "id": "dIv3mrR-AM-X"
      },
      "source": [
        "#Bases"
      ]
    },
    {
      "cell_type": "markdown",
      "metadata": {
        "id": "iP2CsicwAPu_"
      },
      "source": [
        "decode it by base64"
      ]
    },
    {
      "cell_type": "code",
      "metadata": {
        "colab": {
          "base_uri": "https://localhost:8080/"
        },
        "id": "ES3tnkflASfh",
        "outputId": "78e342f8-fa04-4943-e512-55ad8ddb7edd"
      },
      "source": [
        "import base64\n",
        "c = \"bDNhcm5fdGgzX3IwcDM1\"\n",
        "print(base64.b64decode(c))\n",
        "#ans:picoCTF{l3arn_th3_r0p35'}"
      ],
      "execution_count": null,
      "outputs": [
        {
          "output_type": "stream",
          "name": "stdout",
          "text": [
            "b'l3arn_th3_r0p35'\n"
          ]
        }
      ]
    },
    {
      "cell_type": "markdown",
      "metadata": {
        "id": "NCDkpCkPBMtE"
      },
      "source": [
        "#First Grep"
      ]
    },
    {
      "cell_type": "markdown",
      "metadata": {
        "id": "Rt5SF3SiBPJl"
      },
      "source": [
        "Donload and use grep\n",
        "\n",
        "    grep picoCTF file"
      ]
    },
    {
      "cell_type": "markdown",
      "metadata": {
        "id": "YrdrJ4rhXFM6"
      },
      "source": [
        "#Based"
      ]
    },
    {
      "cell_type": "markdown",
      "metadata": {
        "id": "_0nz_c2Td7iZ"
      },
      "source": [
        "Only need to decode by Base2, Base8 adnd Base16."
      ]
    },
    {
      "cell_type": "code",
      "metadata": {
        "colab": {
          "base_uri": "https://localhost:8080/"
        },
        "id": "atnX4wTMXHbm",
        "outputId": "4a5f2c85-30aa-4fab-8295-9659118c91e4"
      },
      "source": [
        "c = \"01110011 01101111 01100011 01101011 01100101 01110100\"\n",
        "flag = \"\"\n",
        "for _ in c.split():\n",
        "  flag += chr(int(_, 2))\n",
        "print(flag)"
      ],
      "execution_count": null,
      "outputs": [
        {
          "output_type": "stream",
          "name": "stdout",
          "text": [
            "socket\n"
          ]
        }
      ]
    },
    {
      "cell_type": "code",
      "metadata": {
        "colab": {
          "base_uri": "https://localhost:8080/"
        },
        "id": "ukjP3B_gcCMz",
        "outputId": "5b428608-1631-4358-9dfe-014b86493d19"
      },
      "source": [
        "c = \"143 157 155 160 165 164 145 162\"\n",
        "flag = \"\"\n",
        "for _ in c.split():\n",
        "  flag += chr(int(_, 8))\n",
        "print(flag)"
      ],
      "execution_count": null,
      "outputs": [
        {
          "output_type": "stream",
          "name": "stdout",
          "text": [
            "computer\n"
          ]
        }
      ]
    },
    {
      "cell_type": "code",
      "metadata": {
        "colab": {
          "base_uri": "https://localhost:8080/"
        },
        "id": "vggDyI-lcrr-",
        "outputId": "27bd8b96-c9fe-48d2-8a11-8d71e886c861"
      },
      "source": [
        "c = \"70 65 61 72\"\n",
        "flag = \"\"\n",
        "for _ in c.split():\n",
        "  flag += chr(int(_, 16))\n",
        "print(flag)"
      ],
      "execution_count": null,
      "outputs": [
        {
          "output_type": "stream",
          "name": "stdout",
          "text": [
            "pear\n"
          ]
        }
      ]
    },
    {
      "cell_type": "markdown",
      "metadata": {
        "id": "lMdehFOkeKDa"
      },
      "source": [
        "#plumbing"
      ]
    },
    {
      "cell_type": "markdown",
      "metadata": {
        "id": "kiTF3POqgFOA"
      },
      "source": [
        "    nc jupiter.challenges.picoctf.org 4427 | grep picoCTF"
      ]
    },
    {
      "cell_type": "markdown",
      "metadata": {
        "id": "QTfBf4NDgh8o"
      },
      "source": [
        "#mus1c"
      ]
    },
    {
      "cell_type": "markdown",
      "metadata": {
        "id": "vx-Lczkyh3Ci"
      },
      "source": [
        "Put lyrics to here\n",
        "\n",
        "https://codewithrockstar.com/online?source=/rockstar/examples/fizzbuzz.rock\n",
        "\n",
        "and decode it."
      ]
    },
    {
      "cell_type": "code",
      "metadata": {
        "colab": {
          "base_uri": "https://localhost:8080/"
        },
        "id": "8hfBQ6AWiFkj",
        "outputId": "a50b32fe-6ecc-4a7d-cdc0-403b0894ddae"
      },
      "source": [
        "c = \"114 114 114 111 99 107 110 114 110 48 49 49 51 114\"\n",
        "flag = \"\"\n",
        "for _ in c.split():\n",
        "  flag += chr(int(_))\n",
        "print(flag)"
      ],
      "execution_count": null,
      "outputs": [
        {
          "output_type": "stream",
          "name": "stdout",
          "text": [
            "rrrocknrn0113r\n"
          ]
        }
      ]
    },
    {
      "cell_type": "markdown",
      "metadata": {
        "id": "4xiUzyGGjhyK"
      },
      "source": [
        "#flag_shop"
      ]
    },
    {
      "cell_type": "markdown",
      "metadata": {
        "id": "SyNczv-YnTqR"
      },
      "source": [
        "Use the overflow make yout money become more.\n",
        "\n",
        "Buy the flag1 ans enter 999999999, and you will get eoungh money."
      ]
    },
    {
      "cell_type": "markdown",
      "metadata": {
        "id": "MfQilHUYoIB9"
      },
      "source": [
        "#1_wanna_b3_a_r0ck5tar"
      ]
    },
    {
      "cell_type": "markdown",
      "metadata": {
        "id": "4LLGYqG3pkZS"
      },
      "source": [
        "A bit same with \"mus1c\", however, this time you need to learn rockstar porgram.\n",
        "\n",
        "By instruction, you can kown enter 10 ans 170 you can get the code.\n",
        "\n",
        "And decoe it."
      ]
    }
  ]
}