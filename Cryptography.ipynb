{
  "nbformat": 4,
  "nbformat_minor": 0,
  "metadata": {
    "colab": {
      "name": "Cryptography.ipynb",
      "provenance": [],
      "collapsed_sections": [
        "psUrpt1EZU4g"
      ],
      "authorship_tag": "ABX9TyMvQZS56hcx52363PnGVohJ",
      "include_colab_link": true
    },
    "kernelspec": {
      "name": "python3",
      "display_name": "Python 3"
    },
    "language_info": {
      "name": "python"
    }
  },
  "cells": [
    {
      "cell_type": "markdown",
      "metadata": {
        "id": "view-in-github",
        "colab_type": "text"
      },
      "source": [
        "<a href=\"https://colab.research.google.com/github/MakerTakala/PicoCTF/blob/main/Cryptography.ipynb\" target=\"_parent\"><img src=\"https://colab.research.google.com/assets/colab-badge.svg\" alt=\"Open In Colab\"/></a>"
      ]
    },
    {
      "cell_type": "markdown",
      "metadata": {
        "id": "psUrpt1EZU4g"
      },
      "source": [
        "#Mod 26"
      ]
    },
    {
      "cell_type": "markdown",
      "metadata": {
        "id": "sQrWstoXZegH"
      },
      "source": [
        "Use ROT13 to decode."
      ]
    },
    {
      "cell_type": "code",
      "metadata": {
        "colab": {
          "base_uri": "https://localhost:8080/"
        },
        "id": "x92d7Fh_Zd0D",
        "outputId": "326017ef-0aa1-4805-df7a-6da3fad460c6"
      },
      "source": [
        "c = \"cvpbPGS{arkg_gvzr_V'yy_gel_2_ebhaqf_bs_ebg13_Ncualgvd}\"\n",
        "flag = \"\"\n",
        "for _ in c:\n",
        "  if _.isupper():\n",
        "    flag += chr( (ord(_) - ord('A') + 13) % 26 + ord('A') )\n",
        "  elif _.islower():\n",
        "    flag += chr( (ord(_) - ord('a') + 13) % 26 + ord('a') )\n",
        "  else:\n",
        "    flag += _\n",
        "print(flag)"
      ],
      "execution_count": null,
      "outputs": [
        {
          "output_type": "stream",
          "name": "stdout",
          "text": [
            "picoCTF{next_time_I'll_try_2_rounds_of_rot13_Aphnytiq}\n"
          ]
        }
      ]
    },
    {
      "cell_type": "markdown",
      "metadata": {
        "id": "KEcNGMizPEr9"
      },
      "source": [
        "#Mind your Ps and Qs"
      ]
    },
    {
      "cell_type": "code",
      "metadata": {
        "id": "jBzM4foGPJiF"
      },
      "source": [
        "c = 8533139361076999596208540806559574687666062896040360148742851107661304651861689\n",
        "n = 769457290801263793712740792519696786147248001937382943813345728685422050738403253\n",
        "e = 65537\n",
        "for i in range(2, e):\n",
        "  if n % i == 0:\n",
        "    print(i)\n"
      ],
      "execution_count": null,
      "outputs": []
    }
  ]
}